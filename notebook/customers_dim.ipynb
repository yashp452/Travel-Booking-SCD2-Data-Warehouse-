{
 "cells": [
  {
   "cell_type": "code",
   "execution_count": 0,
   "metadata": {
    "application/vnd.databricks.v1+cell": {
     "cellMetadata": {},
     "inputWidgets": {},
     "nuid": "65e29dbc-5110-4ab6-b217-a2b2d89f1a77",
     "showTitle": false,
     "tableResultSettingsMap": {},
     "title": ""
    }
   },
   "outputs": [],
   "source": [
    "from delta.tables import DeltaTable\n",
    "from pyspark.sql import functions as F"
   ]
  },
  {
   "cell_type": "code",
   "execution_count": 0,
   "metadata": {
    "application/vnd.databricks.v1+cell": {
     "cellMetadata": {},
     "inputWidgets": {},
     "nuid": "140b4ca1-8b99-42c7-a63c-3a78a5856425",
     "showTitle": false,
     "tableResultSettingsMap": {},
     "title": ""
    }
   },
   "outputs": [],
   "source": [
    "import datetime as _dt\n",
    "try:\n",
    "    arrival_date = dbutils.widgets.get(\"arrival_date\")\n",
    "except Exception:\n",
    "    arrival_date = _dt.date.today().strftime(\"%Y-%m-%d\")\n",
    "try:\n",
    "    catalog = dbutils.widgets.get(\"catalog\")\n",
    "except Exception:\n",
    "    catalog = \"travel_bookings\"\n",
    "try:\n",
    "    schema = dbutils.widgets.get(\"schema\")\n",
    "except Exception:\n",
    "    schema = \"default\""
   ]
  },
  {
   "cell_type": "code",
   "execution_count": 0,
   "metadata": {
    "application/vnd.databricks.v1+cell": {
     "cellMetadata": {},
     "inputWidgets": {},
     "nuid": "3a6b7141-ed73-4428-89e3-a88735829071",
     "showTitle": false,
     "tableResultSettingsMap": {},
     "title": ""
    }
   },
   "outputs": [],
   "source": [
    "src = spark.table(f\"{catalog}.bronze.customer_inc\").where(F.col(\"business_date\") == F.to_date(F.lit(arrival_date)))\n",
    "dim_full_name = f\"{catalog}.{schema}.customer_dim\"\n"
   ]
  },
  {
   "cell_type": "code",
   "execution_count": 0,
   "metadata": {
    "application/vnd.databricks.v1+cell": {
     "cellMetadata": {},
     "inputWidgets": {},
     "nuid": "60c0fe8e-4cd3-447e-afde-28d855a6db75",
     "showTitle": false,
     "tableResultSettingsMap": {},
     "title": ""
    }
   },
   "outputs": [],
   "source": [
    "spark.sql(f\"CREATE SCHEMA IF NOT EXISTS {catalog}.{schema}\")\n",
    "spark.sql(f\"\"\"\n",
    "CREATE TABLE IF NOT EXISTS {dim_full_name} (\n",
    "  customer_sk BIGINT GENERATED ALWAYS AS IDENTITY,\n",
    "  customer_id INT,\n",
    "  customer_name STRING,\n",
    "  customer_address STRING,\n",
    "  email STRING,\n",
    "  valid_from DATE,\n",
    "  valid_to DATE,\n",
    "  is_current BOOLEAN\n",
    ") USING DELTA\n",
    "\"\"\")\n"
   ]
  },
  {
   "cell_type": "code",
   "execution_count": 0,
   "metadata": {
    "application/vnd.databricks.v1+cell": {
     "cellMetadata": {},
     "inputWidgets": {},
     "nuid": "3b7b183e-dd31-4a46-af9e-2aa082e1edce",
     "showTitle": false,
     "tableResultSettingsMap": {},
     "title": ""
    }
   },
   "outputs": [],
   "source": [
    "if spark.catalog.tableExists(dim_full_name):\n",
    "  dim = DeltaTable.forName(spark, dim_full_name)\n",
    "  (dim.alias(\"d\").merge(\n",
    "      src.alias(\"s\"),\n",
    "      \"d.customer_id = s.customer_id AND d.is_current = true\"\n",
    "    )\n",
    "    .whenMatchedUpdate(\n",
    "      condition=\"d.customer_name <> s.customer_name OR d.customer_address <> s.customer_address OR d.email <> s.email\",\n",
    "      set={\"valid_to\": \"s.valid_from\", \"is_current\": \"false\"}\n",
    "    )\n",
    "    .whenNotMatchedInsert(values={\n",
    "      \"customer_id\": \"s.customer_id\",\n",
    "      \"customer_name\": \"s.customer_name\",\n",
    "      \"customer_address\": \"s.customer_address\",\n",
    "      \"email\": \"s.email\",\n",
    "      \"valid_from\": \"s.valid_from\",\n",
    "      \"valid_to\": \"s.valid_to\",\n",
    "      \"is_current\": \"true\"\n",
    "    })\n",
    "    .execute())\n",
    "\n",
    "  \n",
    "  changed = spark.sql(f\"\"\"\n",
    "    SELECT s.customer_id, s.customer_name, s.customer_address, s.email, s.valid_from, s.valid_to, true AS is_current\n",
    "    FROM {catalog}.bronze.customer_inc s\n",
    "    LEFT JOIN {dim_full_name} d\n",
    "      ON d.customer_id = s.customer_id AND d.valid_from = s.valid_from AND d.is_current = true\n",
    "    WHERE s.business_date = DATE('{arrival_date}') AND d.customer_id IS NULL\n",
    "  \"\"\")\n",
    "  if changed.count() > 0:\n",
    "    changed.write.mode(\"append\").format(\"delta\").saveAsTable(dim_full_name)\n",
    "else:\n",
    "  init = src.select(\"customer_id\",\"customer_name\",\"customer_address\",\"email\",\"valid_from\",\"valid_to\",\"is_current\")\n",
    "  init.write.mode(\"append\").format(\"delta\").saveAsTable(dim_full_name)\n",
    "\n",
    "print(\"SCD2 (dimension) merge complete\")\n"
   ]
  }
 ],
 "metadata": {
  "application/vnd.databricks.v1+notebook": {
   "computePreferences": null,
   "dashboards": [],
   "environmentMetadata": {
    "base_environment": "",
    "environment_version": "3"
   },
   "inputWidgetPreferences": null,
   "language": "python",
   "notebookMetadata": {
    "pythonIndentUnit": 4
   },
   "notebookName": "customers_dim",
   "widgets": {}
  },
  "language_info": {
   "name": "python"
  }
 },
 "nbformat": 4,
 "nbformat_minor": 0
}
