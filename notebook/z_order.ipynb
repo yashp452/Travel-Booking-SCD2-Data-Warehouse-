{
 "cells": [
  {
   "cell_type": "code",
   "execution_count": 0,
   "metadata": {
    "application/vnd.databricks.v1+cell": {
     "cellMetadata": {},
     "inputWidgets": {},
     "nuid": "c1c905dd-f601-4b3d-8218-2edca653858e",
     "showTitle": false,
     "tableResultSettingsMap": {},
     "title": ""
    }
   },
   "outputs": [],
   "source": [
    "\n",
    "try:\n",
    "    catalog = dbutils.widgets.get(\"catalog\")\n",
    "except Exception:\n",
    "    catalog = \"travel_bookings\"\n",
    "try:\n",
    "    schema = dbutils.widgets.get(\"schema\")\n",
    "except Exception:\n",
    "    schema = \"default\"\n",
    "\n",
    "\n",
    "spark.sql(f\"OPTIMIZE {catalog}.{schema}.booking_fact ZORDER BY (customer_id, booking_type)\")\n",
    "spark.sql(f\"OPTIMIZE {catalog}.{schema}.customer_dim ZORDER BY (customer_id)\")\n",
    "\n",
    "\n",
    "spark.sql(f\"VACUUM {catalog}.{schema}.booking_fact RETAIN 168 HOURS\")\n",
    "spark.sql(f\"VACUUM {catalog}.{schema}.customer_dim RETAIN 168 HOURS\")\n",
    "\n",
    "print(\"Table optimization complete\")\n"
   ]
  }
 ],
 "metadata": {
  "application/vnd.databricks.v1+notebook": {
   "computePreferences": null,
   "dashboards": [],
   "environmentMetadata": {
    "base_environment": "",
    "environment_version": "3"
   },
   "inputWidgetPreferences": null,
   "language": "python",
   "notebookMetadata": {
    "pythonIndentUnit": 4
   },
   "notebookName": "z_order",
   "widgets": {}
  },
  "language_info": {
   "name": "python"
  }
 },
 "nbformat": 4,
 "nbformat_minor": 0
}
